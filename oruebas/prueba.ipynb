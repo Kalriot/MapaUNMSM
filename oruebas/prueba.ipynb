{
 "cells": [
  {
   "cell_type": "code",
   "execution_count": 1,
   "metadata": {},
   "outputs": [
    {
     "name": "stdout",
     "output_type": "stream",
     "text": [
      "El archivo GeoJSON ha sido limpiado y guardado como 'senderos_limpios.json'\n"
     ]
    }
   ],
   "source": [
    "import json\n",
    "\n",
    "# Cargar el archivo GeoJSON original\n",
    "with open(\"senderos_original.json\", \"r\") as f:\n",
    "    geojson_data = json.load(f)\n",
    "\n",
    "# Filtrar los segmentos inválidos\n",
    "filtered_features = [\n",
    "    feature for feature in geojson_data[\"features\"]\n",
    "    if feature[\"geometry\"][\"type\"] == \"LineString\" and len(feature[\"geometry\"][\"coordinates\"]) >= 2\n",
    "]\n",
    "\n",
    "# Crear un nuevo objeto GeoJSON con las características filtradas\n",
    "cleaned_geojson = {\n",
    "    \"type\": \"FeatureCollection\",\n",
    "    \"features\": filtered_features\n",
    "}\n",
    "\n",
    "# Guardar el archivo GeoJSON limpio\n",
    "with open(\"senderos_limpios.json\", \"w\") as f:\n",
    "    json.dump(cleaned_geojson, f, indent=4)\n",
    "\n",
    "print(\"El archivo GeoJSON ha sido limpiado y guardado como 'senderos_limpios.json'\")\n"
   ]
  }
 ],
 "metadata": {
  "kernelspec": {
   "display_name": "Python 3",
   "language": "python",
   "name": "python3"
  },
  "language_info": {
   "codemirror_mode": {
    "name": "ipython",
    "version": 3
   },
   "file_extension": ".py",
   "mimetype": "text/x-python",
   "name": "python",
   "nbconvert_exporter": "python",
   "pygments_lexer": "ipython3",
   "version": "3.12.4"
  }
 },
 "nbformat": 4,
 "nbformat_minor": 2
}
